{
 "cells": [
  {
   "cell_type": "code",
   "execution_count": 4,
   "metadata": {},
   "outputs": [],
   "source": [
    "import psycopg2\n",
    "\n",
    "\n",
    "# Connecting to database \n",
    "conn = psycopg2.connect(\n",
    "           host=\"localhost\",\n",
    "           dbname= \"netflix\",\n",
    "           user=\"postgres\",\n",
    "           password=\"shanaya\"\n",
    ")\n",
    "cur = conn.cursor()"
   ]
  },
  {
   "cell_type": "markdown",
   "metadata": {},
   "source": [
    "## Creating Tables "
   ]
  },
  {
   "cell_type": "markdown",
   "metadata": {},
   "source": [
    "Movie table creation "
   ]
  },
  {
   "cell_type": "code",
   "execution_count": 3,
   "metadata": {},
   "outputs": [],
   "source": [
    "cur.execute(\"\"\"CREATE TABLE movie(\n",
    "        movie_id integer PRIMARY KEY,\n",
    "        title VARCHAR,\n",
    "        type VARCHAR,\n",
    "        runtime INTEGER,\n",
    "        box_office INTEGER,\n",
    "        netflix_release_date DATE\n",
    ") \n",
    "\"\"\")\n",
    "conn.commit()"
   ]
  },
  {
   "cell_type": "markdown",
   "metadata": {},
   "source": [
    "Director table creation "
   ]
  },
  {
   "cell_type": "code",
   "execution_count": 4,
   "metadata": {},
   "outputs": [],
   "source": [
    "cur.execute(\"\"\"CREATE TABLE director(\n",
    "    director_id integer PRIMARY KEY,\n",
    "    director_fname text,\n",
    "    director_lname text\n",
    ")\n",
    "\"\"\")\n",
    "conn.commit()"
   ]
  },
  {
   "cell_type": "markdown",
   "metadata": {},
   "source": [
    "Genre table creation"
   ]
  },
  {
   "cell_type": "code",
   "execution_count": 5,
   "metadata": {},
   "outputs": [],
   "source": [
    "cur.execute(\"\"\"CREATE TABLE genre(\n",
    "    movie_id integer ,\n",
    "    genre_id VARCHAR Primary Key,\n",
    "    genre VARCHAR \n",
    ")\n",
    "\"\"\")\n",
    "conn.commit()"
   ]
  },
  {
   "cell_type": "markdown",
   "metadata": {},
   "source": [
    "Creating language table "
   ]
  },
  {
   "cell_type": "code",
   "execution_count": 6,
   "metadata": {},
   "outputs": [],
   "source": [
    "cur.execute(\"\"\"CREATE TABLE language(\n",
    "    language_id integer PRIMARY KEY,\n",
    "    language VARCHAR \n",
    ")\n",
    "\"\"\")\n",
    "conn.commit()"
   ]
  },
  {
   "cell_type": "code",
   "execution_count": 5,
   "metadata": {},
   "outputs": [],
   "source": [
    "import psycopg2\n",
    "\n",
    "conn = psycopg2.connect(\n",
    "           host=\"localhost\",\n",
    "           dbname= \"netflix\",\n",
    "           user=\"postgres\",\n",
    "           password=\"shanaya\"\n",
    ")\n",
    "\n",
    "cur = conn.cursor()\n",
    "\n",
    "with open('movie_file.csv', 'r') as f:\n",
    "    cur.copy_from(f, 'movie', sep=',')\n",
    "\n",
    "conn.commit()"
   ]
  },
  {
   "cell_type": "code",
   "execution_count": null,
   "metadata": {},
   "outputs": [],
   "source": []
  }
 ],
 "metadata": {
  "kernelspec": {
   "display_name": "Python 3",
   "language": "python",
   "name": "python3"
  },
  "language_info": {
   "codemirror_mode": {
    "name": "ipython",
    "version": 3
   },
   "file_extension": ".py",
   "mimetype": "text/x-python",
   "name": "python",
   "nbconvert_exporter": "python",
   "pygments_lexer": "ipython3",
   "version": "3.8.5"
  }
 },
 "nbformat": 4,
 "nbformat_minor": 4
}
