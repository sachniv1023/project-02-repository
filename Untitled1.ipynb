{
 "cells": [
  {
   "cell_type": "code",
   "execution_count": 23,
   "id": "c7d3d10d",
   "metadata": {},
   "outputs": [],
   "source": [
    "import psycopg2\n",
    "\n",
    "\n",
    "# Connecting to database \n",
    "conn = psycopg2.connect(\n",
    "           host=\"localhost\",\n",
    "           dbname= \"netflix\",\n",
    "           user=\"postgres\",\n",
    "           password=\"shanaya\"\n",
    ")\n",
    "cur = conn.cursor()"
   ]
  },
  {
   "cell_type": "code",
   "execution_count": 24,
   "id": "3619dbec",
   "metadata": {},
   "outputs": [],
   "source": [
    "cur.execute(\"\"\"\n",
    "    DROP TABLE director\n",
    "\"\"\")\n",
    "conn.commit()"
   ]
  },
  {
   "cell_type": "code",
   "execution_count": 25,
   "id": "87dbcd83",
   "metadata": {},
   "outputs": [],
   "source": [
    "cur.execute(\"\"\"CREATE TABLE director(\n",
    "    director_id integer PRIMARY KEY,\n",
    "    director_fname text,\n",
    "    director_lname text\n",
    ")\n",
    "\"\"\")\n",
    "conn.commit()"
   ]
  },
  {
   "cell_type": "code",
   "execution_count": 31,
   "id": "6c51f68a",
   "metadata": {},
   "outputs": [],
   "source": [
    "import psycopg2\n",
    "\n",
    "conn = psycopg2.connect(\n",
    "           host=\"localhost\",\n",
    "           dbname= \"netflix\",\n",
    "           user=\"postgres\",\n",
    "           password=\"shanaya\"\n",
    ")\n",
    "\n",
    "cur = conn.cursor()\n",
    "\n",
    "with open('director_file.csv', 'r') as f:\n",
    "    cur.copy_from(f, 'director', sep=',')\n",
    "\n",
    "conn.commit()"
   ]
  },
  {
   "cell_type": "code",
   "execution_count": null,
   "id": "a0f19a9f",
   "metadata": {},
   "outputs": [],
   "source": []
  }
 ],
 "metadata": {
  "kernelspec": {
   "display_name": "Python 3",
   "language": "python",
   "name": "python3"
  },
  "language_info": {
   "codemirror_mode": {
    "name": "ipython",
    "version": 3
   },
   "file_extension": ".py",
   "mimetype": "text/x-python",
   "name": "python",
   "nbconvert_exporter": "python",
   "pygments_lexer": "ipython3",
   "version": "3.8.9"
  }
 },
 "nbformat": 4,
 "nbformat_minor": 5
}
