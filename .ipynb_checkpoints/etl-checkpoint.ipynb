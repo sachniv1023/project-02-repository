{
 "cells": [
  {
   "cell_type": "code",
   "execution_count": 53,
   "id": "ce7d2225",
   "metadata": {},
   "outputs": [],
   "source": [
    "import psycopg2\n",
    "\n",
    "\n",
    "# Connecting to database \n",
    "conn = psycopg2.connect(\n",
    "           host=\"localhost\",\n",
    "           dbname= \"netflix\",\n",
    "           user=\"postgres\",\n",
    "           password=\"shanaya\"\n",
    ")\n",
    "cur = conn.cursor()"
   ]
  },
  {
   "cell_type": "code",
   "execution_count": 24,
   "id": "76ab502d",
   "metadata": {},
   "outputs": [],
   "source": [
    "cur.execute(\"\"\"\n",
    "    DROP TABLE director\n",
    "\"\"\")\n",
    "conn.commit()"
   ]
  },
  {
   "cell_type": "code",
   "execution_count": 25,
   "id": "33c05d5a",
   "metadata": {},
   "outputs": [],
   "source": [
    "#cur.execute(\"\"\"CREATE TABLE director(\n",
    " #   director_id integer PRIMARY KEY,\n",
    " #   director_fname text,\n",
    " #   director_lname text\n",
    "#)\n",
    "#\"\"\")\n",
    "#conn.commit()"
   ]
  },
  {
   "cell_type": "code",
   "execution_count": 37,
   "id": "b9a11ae0",
   "metadata": {},
   "outputs": [],
   "source": [
    "cur.execute(\"\"\"CREATE TABLE movie(\n",
    "    movie_id integer PRIMARY KEY,\n",
    "    title VARCHAR,\n",
    "    type VARCHAR,\n",
    "    runtime VARCHAR,\n",
    "    box_office NUMERIC,\n",
    "    netflix_release_date DATE,\n",
    "    tags VARCHAR\n",
    ")\n",
    "\"\"\")\n",
    "conn.commit()"
   ]
  },
  {
   "cell_type": "code",
   "execution_count": 55,
   "id": "cf54417a",
   "metadata": {},
   "outputs": [],
   "source": [
    "cur.execute(\"\"\"\n",
    "ALTER TABLE movie\n",
    "ALTER COLUMN box_office TYPE VARCHAR\n",
    "\"\"\")\n",
    "conn.commit()"
   ]
  },
  {
   "cell_type": "code",
   "execution_count": 56,
   "id": "3cdd72e8",
   "metadata": {},
   "outputs": [],
   "source": [
    "import psycopg2\n",
    "\n",
    "conn = psycopg2.connect(\n",
    "           host=\"localhost\",\n",
    "           dbname= \"netflix\",\n",
    "           user=\"postgres\",\n",
    "           password=\"shanaya\"\n",
    ")\n",
    "\n",
    "cur = conn.cursor()\n",
    "\n",
    "with open('movie_file.csv', 'r') as f:\n",
    "    cur.copy_from(f, 'movie', sep=',')\n",
    "\n",
    "conn.commit()"
   ]
  },
  {
   "cell_type": "code",
   "execution_count": 31,
   "id": "5ad57aee",
   "metadata": {},
   "outputs": [],
   "source": [
    "import psycopg2\n",
    "\n",
    "conn = psycopg2.connect(\n",
    "           host=\"localhost\",\n",
    "           dbname= \"netflix\",\n",
    "           user=\"postgres\",\n",
    "           password=\"shanaya\"\n",
    ")\n",
    "\n",
    "cur = conn.cursor()\n",
    "\n",
    "with open('director_file.csv', 'r') as f:\n",
    "    cur.copy_from(f, 'director', sep=',')\n",
    "\n",
    "conn.commit()"
   ]
  },
  {
   "cell_type": "code",
   "execution_count": null,
   "id": "7c595061",
   "metadata": {},
   "outputs": [],
   "source": []
  }
 ],
 "metadata": {
  "kernelspec": {
   "display_name": "Python 3",
   "language": "python",
   "name": "python3"
  },
  "language_info": {
   "codemirror_mode": {
    "name": "ipython",
    "version": 3
   },
   "file_extension": ".py",
   "mimetype": "text/x-python",
   "name": "python",
   "nbconvert_exporter": "python",
   "pygments_lexer": "ipython3",
   "version": "3.8.9"
  }
 },
 "nbformat": 4,
 "nbformat_minor": 5
}
