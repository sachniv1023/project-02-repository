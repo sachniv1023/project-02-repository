{
 "cells": [
  {
   "cell_type": "code",
   "execution_count": 55,
   "metadata": {},
   "outputs": [],
   "source": [
    "import psycopg2\n",
    "\n",
    "\n",
    "# Connecting to database \n",
    "conn = psycopg2.connect(\n",
    "           host=\"localhost\",\n",
    "           dbname= \"netflix\",\n",
    "           user=\"postgres\",\n",
    "           password=\"shanaya\"\n",
    ")\n",
    "cur = conn.cursor()"
   ]
  },
  {
   "cell_type": "markdown",
   "metadata": {},
   "source": [
    "## Creating Tables "
   ]
  },
  {
   "cell_type": "markdown",
   "metadata": {},
   "source": [
    "Movie table creation "
   ]
  },
  {
   "cell_type": "code",
   "execution_count": 69,
   "metadata": {},
   "outputs": [],
   "source": [
    "cur.execute(\"\"\"CREATE TABLE movie(\n",
    "        movie_id integer PRIMARY KEY,\n",
    "        title VARCHAR,\n",
    "        type VARCHAR,\n",
    "        runtime INTEGER,\n",
    "        box_office INTEGER,\n",
    "        netflix_release_date DATE\n",
    ") \n",
    "\"\"\")\n",
    "conn.commit()"
   ]
  },
  {
   "cell_type": "code",
   "execution_count": 68,
   "metadata": {},
   "outputs": [],
   "source": [
    "cur.execute(\"\"\"\n",
    "DROP TABLE movie\n",
    "\"\"\")\n",
    "conn.commit()"
   ]
  },
  {
   "cell_type": "markdown",
   "metadata": {},
   "source": [
    "Director table creation "
   ]
  },
  {
   "cell_type": "code",
   "execution_count": 57,
   "metadata": {},
   "outputs": [],
   "source": [
    "cur.execute(\"\"\"CREATE TABLE director(\n",
    "    director_id INTEGER  PRIMARY KEY,\n",
    "    first_name VARCHAR,\n",
    "    last_name VARCHAR\n",
    ")\n",
    "\"\"\")\n",
    "conn.commit()"
   ]
  },
  {
   "cell_type": "code",
   "execution_count": 56,
   "metadata": {},
   "outputs": [],
   "source": [
    "cur.execute(\"\"\"\n",
    "DROP TABLE director\n",
    "\"\"\")\n",
    "conn.commit()"
   ]
  },
  {
   "cell_type": "markdown",
   "metadata": {},
   "source": [
    "Genre table creation"
   ]
  },
  {
   "cell_type": "code",
   "execution_count": 28,
   "metadata": {},
   "outputs": [],
   "source": [
    "cur.execute(\"\"\"CREATE TABLE genre(\n",
    "       genre_id INTEGER Primary Key,\n",
    "       genre VARCHAR \n",
    ")\n",
    "\"\"\")\n",
    "conn.commit()"
   ]
  },
  {
   "cell_type": "code",
   "execution_count": 27,
   "metadata": {},
   "outputs": [],
   "source": [
    "cur.execute(\"\"\"\n",
    "DROP TABLE genre\n",
    "\"\"\")\n",
    "conn.commit()"
   ]
  },
  {
   "cell_type": "markdown",
   "metadata": {},
   "source": [
    "Creating language table "
   ]
  },
  {
   "cell_type": "code",
   "execution_count": 6,
   "metadata": {},
   "outputs": [],
   "source": [
    "cur.execute(\"\"\"CREATE TABLE language(\n",
    "    language_id integer PRIMARY KEY,\n",
    "    language VARCHAR \n",
    ")\n",
    "\"\"\")\n",
    "conn.commit()"
   ]
  },
  {
   "cell_type": "code",
   "execution_count": 65,
   "metadata": {},
   "outputs": [],
   "source": [
    "cur.execute(\"\"\"CREATE TABLE movie_language(\n",
    "    movie_id integer,\n",
    "    language_id integer,\n",
    "    title VARCHAR \n",
    ")\n",
    "\"\"\")\n",
    "conn.commit()"
   ]
  },
  {
   "cell_type": "code",
   "execution_count": 34,
   "metadata": {},
   "outputs": [],
   "source": [
    "cur.execute(\"\"\"CREATE TABLE movie_genre(\n",
    "    movie_id INTEGER,\n",
    "    genre_id INTEGER,\n",
    "    title VARCHAR\n",
    "   \n",
    ")\n",
    "\"\"\")\n",
    "conn.commit()"
   ]
  },
  {
   "cell_type": "code",
   "execution_count": 33,
   "metadata": {},
   "outputs": [],
   "source": [
    "cur.execute(\"\"\"\n",
    "DROP TABLE movie_genre\n",
    "\"\"\")\n",
    "conn.commit()"
   ]
  },
  {
   "cell_type": "code",
   "execution_count": 60,
   "metadata": {},
   "outputs": [],
   "source": [
    "cur.execute(\"\"\"CREATE TABLE movie_director(\n",
    "    movie_id INTEGER,\n",
    "    director_id INTEGER\n",
    "   \n",
    ")\n",
    "\"\"\")\n",
    "conn.commit()"
   ]
  },
  {
   "cell_type": "markdown",
   "metadata": {},
   "source": [
    "## Loading data from csv "
   ]
  },
  {
   "cell_type": "markdown",
   "metadata": {},
   "source": [
    "Loading data for movie table  "
   ]
  },
  {
   "cell_type": "code",
   "execution_count": 70,
   "metadata": {},
   "outputs": [],
   "source": [
    "import psycopg2\n",
    "\n",
    "conn = psycopg2.connect(\n",
    "           host=\"localhost\",\n",
    "           dbname= \"netflix\",\n",
    "           user=\"postgres\",\n",
    "           password=\"shanaya\"\n",
    ")\n",
    "\n",
    "cur = conn.cursor()\n",
    "\n",
    "with open('movie_file.csv', 'r') as f:\n",
    "    cur.copy_from(f, 'movie', sep=',')\n",
    "\n",
    "conn.commit()"
   ]
  },
  {
   "cell_type": "markdown",
   "metadata": {},
   "source": [
    "Loading data for director table "
   ]
  },
  {
   "cell_type": "code",
   "execution_count": 59,
   "metadata": {},
   "outputs": [],
   "source": [
    "import psycopg2\n",
    "\n",
    "conn = psycopg2.connect(\n",
    "           host=\"localhost\",\n",
    "           dbname= \"netflix\",\n",
    "           user=\"postgres\",\n",
    "           password=\"shanaya\"\n",
    ")\n",
    "\n",
    "cur = conn.cursor()\n",
    "\n",
    "with open('dir_final.csv', 'r') as f:\n",
    "    cur.copy_from(f, 'director', sep=',')\n",
    "\n",
    "conn.commit()"
   ]
  },
  {
   "cell_type": "code",
   "execution_count": 29,
   "metadata": {},
   "outputs": [],
   "source": [
    "import psycopg2\n",
    "\n",
    "conn = psycopg2.connect(\n",
    "           host=\"localhost\",\n",
    "           dbname= \"netflix\",\n",
    "           user=\"postgres\",\n",
    "           password=\"shanaya\"\n",
    ")\n",
    "\n",
    "cur = conn.cursor()\n",
    "\n",
    "with open('genre_final_1.csv', 'r') as f:\n",
    "    cur.copy_from(f, 'genre', sep=',')\n",
    "\n",
    "conn.commit()"
   ]
  },
  {
   "cell_type": "code",
   "execution_count": 9,
   "metadata": {},
   "outputs": [],
   "source": [
    "cur.execute(\"\"\"\n",
    "DROP TABLE director\n",
    "\"\"\")\n",
    "conn.commit()"
   ]
  },
  {
   "cell_type": "code",
   "execution_count": 36,
   "metadata": {},
   "outputs": [],
   "source": [
    "import psycopg2\n",
    "\n",
    "conn = psycopg2.connect(\n",
    "           host=\"localhost\",\n",
    "           dbname= \"netflix\",\n",
    "           user=\"postgres\",\n",
    "           password=\"shanaya\"\n",
    ")\n",
    "\n",
    "cur = conn.cursor()\n",
    "\n",
    "with open('genre_file_final_.csv', 'r') as f:\n",
    "    cur.copy_from(f, 'movie_genre', sep=',')\n",
    "\n",
    "conn.commit()"
   ]
  },
  {
   "cell_type": "code",
   "execution_count": 62,
   "metadata": {},
   "outputs": [],
   "source": [
    "import psycopg2\n",
    "\n",
    "conn = psycopg2.connect(\n",
    "           host=\"localhost\",\n",
    "           dbname= \"netflix\",\n",
    "           user=\"postgres\",\n",
    "           password=\"shanaya\"\n",
    ")\n",
    "\n",
    "cur = conn.cursor()\n",
    "\n",
    "with open('movie_dir_final.csv', 'r') as f:\n",
    "    cur.copy_from(f, 'movie_director', sep=',')\n",
    "\n",
    "conn.commit()"
   ]
  },
  {
   "cell_type": "code",
   "execution_count": 64,
   "metadata": {},
   "outputs": [],
   "source": [
    "import psycopg2\n",
    "\n",
    "conn = psycopg2.connect(\n",
    "           host=\"localhost\",\n",
    "           dbname= \"netflix\",\n",
    "           user=\"postgres\",\n",
    "           password=\"shanaya\"\n",
    ")\n",
    "\n",
    "cur = conn.cursor()\n",
    "\n",
    "with open('language_file.csv', 'r') as f:\n",
    "    cur.copy_from(f, 'language', sep=',')\n",
    "\n",
    "conn.commit()"
   ]
  },
  {
   "cell_type": "code",
   "execution_count": 67,
   "metadata": {},
   "outputs": [],
   "source": [
    "import psycopg2\n",
    "\n",
    "conn = psycopg2.connect(\n",
    "           host=\"localhost\",\n",
    "           dbname= \"netflix\",\n",
    "           user=\"postgres\",\n",
    "           password=\"shanaya\"\n",
    ")\n",
    "\n",
    "cur = conn.cursor()\n",
    "\n",
    "with open('movie_lang_final.csv', 'r') as f:\n",
    "    cur.copy_from(f, 'movie_language', sep=',')\n",
    "\n",
    "conn.commit()"
   ]
  },
  {
   "cell_type": "code",
   "execution_count": null,
   "metadata": {},
   "outputs": [],
   "source": []
  }
 ],
 "metadata": {
  "kernelspec": {
   "display_name": "Python 3",
   "language": "python",
   "name": "python3"
  },
  "language_info": {
   "codemirror_mode": {
    "name": "ipython",
    "version": 3
   },
   "file_extension": ".py",
   "mimetype": "text/x-python",
   "name": "python",
   "nbconvert_exporter": "python",
   "pygments_lexer": "ipython3",
   "version": "3.8.5"
  }
 },
 "nbformat": 4,
 "nbformat_minor": 4
}
